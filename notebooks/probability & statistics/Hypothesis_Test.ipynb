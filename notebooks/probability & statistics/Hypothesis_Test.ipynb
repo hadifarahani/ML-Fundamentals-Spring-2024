{
  "cells": [
    {
      "cell_type": "code",
      "execution_count": null,
      "metadata": {
        "colab": {
          "base_uri": "https://localhost:8080/"
        },
        "id": "2lhySew-ClBV",
        "outputId": "85c42b6b-59d6-49b4-b38a-d1b16a8f6ff0"
      },
      "outputs": [
        {
          "name": "stdout",
          "output_type": "stream",
          "text": [
            "[NbConvertApp] Converting notebook /content/Hypothesis_Test.ipynb to html\n",
            "[NbConvertApp] Writing 1528575 bytes to /content/Hypothesis_Test.html\n"
          ]
        },
        {
          "data": {
            "text/plain": []
          },
          "execution_count": 3,
          "metadata": {},
          "output_type": "execute_result"
        }
      ],
      "source": [
        "%%shell\n",
        "jupyter nbconvert --to md /content/Hypothesis_Test.ipynb"
      ]
    },
    {
      "cell_type": "markdown",
      "metadata": {
        "id": "_X8XSrlRPsQn"
      },
      "source": [
        "# Interval Estimation\n",
        "\n",
        "In statistics, interval estimation is the use of sample data to estimate an interval of plausible values of a parameter of interest."
      ]
    },
    {
      "cell_type": "markdown",
      "metadata": {
        "id": "Cp4TnGEzP7BH"
      },
      "source": [
        "We hold study with 200 participates. This study shows that men on average over 15.7 hours reading books. If the error range for this study is 2.2 hours. Calculate the confidence interval with a certainty level 95%."
      ]
    },
    {
      "attachments": {},
      "cell_type": "markdown",
      "metadata": {
        "id": "zBRVw9IqQ5GH"
      },
      "source": [
        "![image.png](hypothesis_test_images/1.png)"
      ]
    },
    {
      "cell_type": "markdown",
      "metadata": {
        "id": "4lSptHiYQ_Z-"
      },
      "source": [
        "Now we can say with 95% confidence that the average of this sample is between 13.5 and 17.9."
      ]
    },
    {
      "cell_type": "markdown",
      "metadata": {
        "id": "PxvGHOIjWOgI"
      },
      "source": [
        "# Inferential statistics:"
      ]
    },
    {
      "cell_type": "markdown",
      "metadata": {
        "id": "x36-VpNVWPoL"
      },
      "source": [
        "Inferential statistics is a set of methods in which the characteristics of society are inferred with the help of samples."
      ]
    },
    {
      "cell_type": "markdown",
      "metadata": {
        "id": "wgp-3AU2WUoI"
      },
      "source": [
        "The **main difference** between descriptive and inferential statistics is that in descriptive statistics, the results obtained from the statistical sample can never be **generalized to the entire statistical population.**\n",
        "\n",
        " Because the goal in this type of statistics is to provide a description of the characteristics of the statistical sample of the research along with There are indicators of tendency towards the center or indicators of tendency towards dispersion.\n",
        "\n",
        "While in inferential or analytical statistics, the results and findings obtained from the statistical sample can be **generalized to the entire statistical population of the research.**"
      ]
    },
    {
      "cell_type": "markdown",
      "metadata": {
        "id": "O_Ja_BGkWsro"
      },
      "source": [
        "# Statistical hypothesis testing"
      ]
    },
    {
      "cell_type": "markdown",
      "metadata": {
        "id": "QzcYFDDpW-lI"
      },
      "source": [
        "In the science of statistics, it is a method to investigate claims or assumptions about distribution parameters in statistical societies. In this method, we are trying to examine the issue and test two hypotheses by using the two concepts of null hypothesis and opposite or alternative hypothesis."
      ]
    },
    {
      "cell_type": "markdown",
      "metadata": {
        "id": "XEOG-TZdW0mr"
      },
      "source": [
        "**Example:** A company claims that the average life of the lamps produced by this company is at least 8000 hours.\n",
        "\n",
        "\n",
        "**Example:** A pharmaceutical company claims that their drug for cancer has significantly prevented the spread of cancer, and 80% of users have not had a particular cancer develop in them."
      ]
    },
    {
      "cell_type": "markdown",
      "metadata": {
        "id": "-aWv7q00XtVR"
      },
      "source": [
        "## Null Hypothesis $(H_0)$"
      ]
    },
    {
      "cell_type": "markdown",
      "metadata": {
        "id": "5sgMI3OjX7K4"
      },
      "source": [
        "Current values we accept for parameters."
      ]
    },
    {
      "cell_type": "markdown",
      "metadata": {
        "id": "mxftHV3fX-nJ"
      },
      "source": [
        "## Alternative Hypothesis ($𝑯_𝒂$  , $𝑯_𝟏$)"
      ]
    },
    {
      "cell_type": "markdown",
      "metadata": {
        "id": "9zRY-bIuYIho"
      },
      "source": [
        "Sometimes it is also called a research hypothesis and it includes a claim that we want to investigate."
      ]
    },
    {
      "cell_type": "markdown",
      "metadata": {
        "id": "qXmKTF_vYNjn"
      },
      "source": [
        "## Test Statistic"
      ]
    },
    {
      "cell_type": "markdown",
      "metadata": {
        "id": "d3U2QmmhYROS"
      },
      "source": [
        "The amount obtained from the sample and based on it we make a decision regarding the claim."
      ]
    },
    {
      "cell_type": "markdown",
      "metadata": {
        "id": "qUz71sLiYUz2"
      },
      "source": [
        "## Level of Confidence"
      ]
    },
    {
      "cell_type": "markdown",
      "metadata": {
        "id": "xpK-Ic2pYYq_"
      },
      "source": [
        "How confident are we in our decisions?\n",
        "\n",
        "Based on that, another level is also defined, which is called a meaningful level."
      ]
    },
    {
      "cell_type": "markdown",
      "metadata": {
        "id": "BoONPiq8YxaA"
      },
      "source": [
        "#  two-tailed (two-sided) tests"
      ]
    },
    {
      "cell_type": "markdown",
      "metadata": {
        "id": "I7JEycI2Yy2B"
      },
      "source": [
        "Consider a situation where we want to test the **null hypothesis** $𝐻_0$: $\\theta$ = $\\theta_0 $ against the opposite (alternative) two-sided hypothesis $𝐻_1$: $\\theta$ $\\neq$ $\\theta_0$ ($\\theta$> $\\theta_0$, $\\theta$< $\\theta_0$).\n",
        "\n",
        "It seems reasonable to accept the null hypothesis when the point estimate $\\hat \\theta$ for the parameter $\\theta$ is close to $\\theta_0$ and to reject it when $\\hat \\theta$ is much larger or smaller than $\\theta_0$.\n",
        "\n",
        "We call tests with the above situation two-tailed (two-sided) tests."
      ]
    },
    {
      "cell_type": "markdown",
      "metadata": {
        "id": "xpaHhUDqZmhx"
      },
      "source": [
        "# one-tailed (one-sided) tests"
      ]
    },
    {
      "cell_type": "markdown",
      "metadata": {
        "id": "pTTKUYXLZoIU"
      },
      "source": [
        "Consider a situation where we want to test the null hypothesis $𝐻_0$: $\\theta$ $\\leq$ $\\theta_0$ against the opposite (alternative) one-sided hypothesis $𝐻_1$: $\\theta$>$\\theta_0$.\n",
        "\n",
        "It seems reasonable to reject the null hypothesis when the point estimate 𝜃̂ for the parameter $\\theta$ is much larger than $\\theta_0$.\n",
        "\n",
        "\n",
        "We call tests with the above situation one-tailed (one-sided) tests."
      ]
    },
    {
      "cell_type": "markdown",
      "metadata": {
        "id": "e_nJwwJjaDN5"
      },
      "source": [
        "# Some examples for a better understanding of null hypothesis and counter hypothesis (alternative):"
      ]
    },
    {
      "cell_type": "markdown",
      "metadata": {
        "id": "hPmuWKpfaFtY"
      },
      "source": [
        "**Example 1)** A company claims that the coffee machine of this company pours 250 ml of coffee in coffee cups on average. A buyer claims that after repairing the coffee machine of this company, this coffee machine no longer pours an average of 250 ml of coffee. It is desirable to write null hypothesis and alternative hypothesis."
      ]
    },
    {
      "attachments": {},
      "cell_type": "markdown",
      "metadata": {
        "id": "A0bmJwOmaKlK"
      },
      "source": [
        "![image.png](hypothesis_test_images/2.png)"
      ]
    },
    {
      "cell_type": "markdown",
      "metadata": {
        "id": "CKJ86FoqaNXS"
      },
      "source": [
        "**Example 2)** Doctors believe that teenagers do not sleep more than 10 hours a day on average. A researcher believes that teenagers sleep more than 10 hours a day. It is desirable to write null hypothesis and alternative hypothesis."
      ]
    },
    {
      "attachments": {},
      "cell_type": "markdown",
      "metadata": {
        "id": "Ti3B5_odaTFw"
      },
      "source": [
        "![image.png](hypothesis_test_images/3.png)"
      ]
    },
    {
      "cell_type": "markdown",
      "metadata": {
        "id": "6RdlRXbOaVeg"
      },
      "source": [
        "# Steps of an assumption test:\n",
        "\n",
        "1- Formulating the null hypothesis $𝐻_0$ and the reciprocal hypothesis $𝐻_1$ and determining $\\alpha$\n",
        "\n",
        "2- Determine the critical region $\\alpha$ by using the sampling distribution, the appropriate test statistic.\n",
        "\n",
        "3- Determine the value of the test statistic from the sample data.\n",
        "\n",
        "4- Check whether the value of the test statistic falls in the critical area or not and reject or confirm the null hypothesis accordingly."
      ]
    },
    {
      "cell_type": "markdown",
      "metadata": {
        "id": "4K9O5VCJjBPq"
      },
      "source": [
        "**Example 1)** Doctors believe that teenagers do not sleep more than 10 hours a day on average. A researcher believes that teenagers sleep more than 10 hours a day. It is desirable to check this claim with a hypothesis test. The researcher has studied a number of samples, for example 20 teenagers."
      ]
    },
    {
      "attachments": {},
      "cell_type": "markdown",
      "metadata": {
        "id": "Nz0gmnctjHhq"
      },
      "source": [
        "![image.png](hypothesis_test_images/4.png)"
      ]
    },
    {
      "cell_type": "markdown",
      "metadata": {
        "id": "nI_rt-m6jUND"
      },
      "source": [
        "**Example 1)** A device pours an average of 2 liters of soda into the glasses. After repairing this machine, the management thinks that the machine is not working properly. If the average of a sample of 20 is equal to 2.10 liters and the standard deviation is equal to 0.33, it is desirable to investigate the claim with a significance level of $\\alpha$=𝟎.𝟎𝟏"
      ]
    },
    {
      "attachments": {},
      "cell_type": "markdown",
      "metadata": {
        "id": "A2r--w7OjqhR"
      },
      "source": [
        "![image.png](hypothesis_test_images/5.png)"
      ]
    },
    {
      "attachments": {},
      "cell_type": "markdown",
      "metadata": {
        "id": "zN39XU3ujfNq"
      },
      "source": [
        "![image.png](hypothesis_test_images/51.png)"
      ]
    },
    {
      "cell_type": "markdown",
      "metadata": {
        "id": "f8eIaoRPjxZD"
      },
      "source": [
        "# Examples for testing the assumption of the mean of a population (large sample z-test)"
      ]
    },
    {
      "cell_type": "markdown",
      "metadata": {
        "id": "sbudtB93jy4R"
      },
      "source": [
        "**Example 1)** The results show that the average score of students in a test is less than 850. A company claims that the students who have attended the courses of this company have received a higher average grade. If we have a sample of 1000 with an average of 856 and a standard deviation of 98, it is desirable to check this claim with a significance level of 0.05."
      ]
    },
    {
      "attachments": {},
      "cell_type": "markdown",
      "metadata": {
        "id": "CrRhVrgLj-OJ"
      },
      "source": [
        "![image.png](hypothesis_test_images/20.png)"
      ]
    },
    {
      "attachments": {},
      "cell_type": "markdown",
      "metadata": {
        "id": "Wgbnkw5tj5QC"
      },
      "source": [
        "![image.png](hypothesis_test_images/21.png)"
      ]
    },
    {
      "cell_type": "markdown",
      "metadata": {
        "id": "QVaFevTukCAJ"
      },
      "source": [
        "# P-value"
      ]
    },
    {
      "cell_type": "markdown",
      "metadata": {
        "id": "ibMFTAC8kG5r"
      },
      "source": [
        "The lowest value of the probability of type 1 error (test level) that can be found in the test statistic will cause the null hypothesis to be rejected. In other words, in a hypothesis test, the probability value (p-value) is equal to the lowest value of the significance level (significance level) or the probability of the first type error, which causes the null hypothesis to be rejected."
      ]
    },
    {
      "attachments": {},
      "cell_type": "markdown",
      "metadata": {
        "id": "txC4krF2kPIy"
      },
      "source": [
        "![image.png](hypothesis_test_images/61.png)"
      ]
    },
    {
      "attachments": {},
      "cell_type": "markdown",
      "metadata": {
        "id": "GK3ZfR4CkV4p"
      },
      "source": [
        "![image.png](hypothesis_test_images/7.png)"
      ]
    },
    {
      "cell_type": "markdown",
      "metadata": {
        "id": "hMq_rEwfkckQ"
      },
      "source": [
        "# Examples for deciding with 𝒑-𝒗𝒂𝒍𝒖𝒆 on large samples"
      ]
    },
    {
      "cell_type": "markdown",
      "metadata": {
        "id": "4ztBk3phkfb5"
      },
      "source": [
        "**Example 1)** A newspaper reports that men get married at the age of 25 on average. Researchers think that this claim of the newspaper is not true and the average age of marriage is more than this amount. If in a sample of 213 men who were studied, the average age of marriage is 25.3 and the standard deviation is 2.3, it is desirable to check this claim with a confidence level of 95%."
      ]
    },
    {
      "attachments": {},
      "cell_type": "markdown",
      "metadata": {
        "id": "nuhIur7lkkDI"
      },
      "source": [
        "![image.png](hypothesis_test_images/8.png)"
      ]
    },
    {
      "cell_type": "markdown",
      "metadata": {
        "id": "HYF9HPAok4Zi"
      },
      "source": [
        "**Example 2)** An earlier study has shown that families in Tehran have an average of 1.48 children. A researcher claims that this is not the case, he has a sample of 128 with an average of 1.39 and a standard deviation of 0.84. It is desirable to investigate the claim with a confidence level of 90%."
      ]
    },
    {
      "attachments": {},
      "cell_type": "markdown",
      "metadata": {
        "id": "n3akJs6qk54Y"
      },
      "source": [
        "![image.png](hypothesis_test_images/9.png)"
      ]
    },
    {
      "cell_type": "code",
      "execution_count": null,
      "metadata": {
        "colab": {
          "base_uri": "https://localhost:8080/"
        },
        "id": "5tJxZ1wYdL2q",
        "outputId": "506638cc-98f3-4573-97d1-4d735ceb64ee"
      },
      "outputs": [
        {
          "name": "stdout",
          "output_type": "stream",
          "text": [
            "Mounted at /gdrive\n"
          ]
        }
      ],
      "source": [
        "from google.colab import drive\n",
        "drive.mount('/gdrive')"
      ]
    },
    {
      "cell_type": "code",
      "execution_count": null,
      "metadata": {
        "colab": {
          "base_uri": "https://localhost:8080/"
        },
        "id": "gn05EvrbkOLh",
        "outputId": "eca47769-8b9c-45bf-b213-61ce34ae2051"
      },
      "outputs": [
        {
          "name": "stdout",
          "output_type": "stream",
          "text": [
            "Looking in indexes: https://pypi.org/simple, https://us-python.pkg.dev/colab-wheels/public/simple/\n",
            "Collecting scipy==1.6.2\n",
            "  Downloading scipy-1.6.2-cp38-cp38-manylinux1_x86_64.whl (27.2 MB)\n",
            "\u001b[2K     \u001b[90m━━━━━━━━━━━━━━━━━━━━━━━━━━━━━━━━━━━━━━━━\u001b[0m \u001b[32m27.2/27.2 MB\u001b[0m \u001b[31m36.6 MB/s\u001b[0m eta \u001b[36m0:00:00\u001b[0m\n",
            "\u001b[?25hRequirement already satisfied: numpy<1.23.0,>=1.16.5 in /usr/local/lib/python3.8/dist-packages (from scipy==1.6.2) (1.21.6)\n",
            "Installing collected packages: scipy\n",
            "  Attempting uninstall: scipy\n",
            "    Found existing installation: scipy 1.7.3\n",
            "    Uninstalling scipy-1.7.3:\n",
            "      Successfully uninstalled scipy-1.7.3\n",
            "Successfully installed scipy-1.6.2\n"
          ]
        }
      ],
      "source": [
        "! pip install scipy==1.6.2"
      ]
    },
    {
      "cell_type": "code",
      "execution_count": null,
      "metadata": {
        "colab": {
          "base_uri": "https://localhost:8080/"
        },
        "id": "fLq7bwtwA21a",
        "outputId": "b08d829a-2253-4b13-ee2f-5fe001e71246"
      },
      "outputs": [
        {
          "name": "stdout",
          "output_type": "stream",
          "text": [
            "1.6.2\n"
          ]
        }
      ],
      "source": [
        "import scipy\n",
        "print(scipy.__version__)"
      ]
    },
    {
      "attachments": {},
      "cell_type": "markdown",
      "metadata": {
        "id": "sWqdwB3ppwGS"
      },
      "source": [
        "![image.png](hypothesis_test_images/10.png)"
      ]
    },
    {
      "attachments": {},
      "cell_type": "markdown",
      "metadata": {
        "id": "O9X6nBd5Kie5"
      },
      "source": [
        "![image.png](hypothesis_test_images/11.png)"
      ]
    },
    {
      "cell_type": "code",
      "execution_count": null,
      "metadata": {
        "id": "dqkO0hn0khGR"
      },
      "outputs": [],
      "source": [
        "import pandas as pd\n",
        "from scipy import stats"
      ]
    },
    {
      "cell_type": "code",
      "execution_count": null,
      "metadata": {
        "colab": {
          "base_uri": "https://localhost:8080/"
        },
        "id": "MTLqUt5CddDY",
        "outputId": "645ebd1b-ee29-44a7-d642-99f3e242163b"
      },
      "outputs": [
        {
          "name": "stdout",
          "output_type": "stream",
          "text": [
            "bigmac.csv\t    foods.csv\t\t    nba.csv\t     revenue.csv\n",
            "blood_pressure.csv  fortune1000.csv\t    PlantGrowth.csv  salesmen.csv\n",
            "chi-test.csv\t    google_stock_price.csv  pokemon.csv      ted.csv\n",
            "employees.csv\t    jamesbond.csv\t    quarters.csv\n"
          ]
        }
      ],
      "source": [
        "# https://drive.google.com/drive/folders/1kvDhM7-XsXhk-AmTrWd-823WpbazWu9D?usp=sharing\n",
        "root = '/gdrive/My Drive/Loop Accademy workshop/'\n",
        "! ls '/gdrive/My Drive/Loop Accademy workshop'"
      ]
    },
    {
      "cell_type": "code",
      "execution_count": null,
      "metadata": {
        "colab": {
          "base_uri": "https://localhost:8080/",
          "height": 206
        },
        "id": "qgTS35LueFLi",
        "outputId": "567a46be-b909-41c4-b981-78bf886241ea"
      },
      "outputs": [
        {
          "data": {
            "text/html": [
              "<div>\n",
              "<style scoped>\n",
              "    .dataframe tbody tr th:only-of-type {\n",
              "        vertical-align: middle;\n",
              "    }\n",
              "\n",
              "    .dataframe tbody tr th {\n",
              "        vertical-align: top;\n",
              "    }\n",
              "\n",
              "    .dataframe thead th {\n",
              "        text-align: right;\n",
              "    }\n",
              "</style>\n",
              "<table border=\"1\" class=\"dataframe\">\n",
              "  <thead>\n",
              "    <tr style=\"text-align: right;\">\n",
              "      <th></th>\n",
              "      <th>First Name</th>\n",
              "      <th>Gender</th>\n",
              "      <th>City</th>\n",
              "      <th>Frequency</th>\n",
              "      <th>Item</th>\n",
              "      <th>Spend</th>\n",
              "    </tr>\n",
              "  </thead>\n",
              "  <tbody>\n",
              "    <tr>\n",
              "      <th>0</th>\n",
              "      <td>Wanda</td>\n",
              "      <td>Female</td>\n",
              "      <td>Stamford</td>\n",
              "      <td>Weekly</td>\n",
              "      <td>Burger</td>\n",
              "      <td>15.66</td>\n",
              "    </tr>\n",
              "    <tr>\n",
              "      <th>1</th>\n",
              "      <td>Eric</td>\n",
              "      <td>Male</td>\n",
              "      <td>Stamford</td>\n",
              "      <td>Daily</td>\n",
              "      <td>Chalupa</td>\n",
              "      <td>10.56</td>\n",
              "    </tr>\n",
              "    <tr>\n",
              "      <th>2</th>\n",
              "      <td>Charles</td>\n",
              "      <td>Male</td>\n",
              "      <td>New York</td>\n",
              "      <td>Never</td>\n",
              "      <td>Sushi</td>\n",
              "      <td>42.14</td>\n",
              "    </tr>\n",
              "    <tr>\n",
              "      <th>3</th>\n",
              "      <td>Anna</td>\n",
              "      <td>Female</td>\n",
              "      <td>Philadelphia</td>\n",
              "      <td>Once</td>\n",
              "      <td>Ice Cream</td>\n",
              "      <td>11.01</td>\n",
              "    </tr>\n",
              "    <tr>\n",
              "      <th>4</th>\n",
              "      <td>Deborah</td>\n",
              "      <td>Female</td>\n",
              "      <td>Philadelphia</td>\n",
              "      <td>Daily</td>\n",
              "      <td>Chalupa</td>\n",
              "      <td>23.49</td>\n",
              "    </tr>\n",
              "  </tbody>\n",
              "</table>\n",
              "</div>"
            ],
            "text/plain": [
              "  First Name  Gender          City Frequency       Item  Spend\n",
              "0      Wanda  Female      Stamford    Weekly     Burger  15.66\n",
              "1       Eric    Male      Stamford     Daily    Chalupa  10.56\n",
              "2    Charles    Male      New York     Never      Sushi  42.14\n",
              "3       Anna  Female  Philadelphia      Once  Ice Cream  11.01\n",
              "4    Deborah  Female  Philadelphia     Daily    Chalupa  23.49"
            ]
          },
          "execution_count": 6,
          "metadata": {
            "tags": []
          },
          "output_type": "execute_result"
        }
      ],
      "source": [
        "df = pd.read_csv(root + 'foods.csv')\n",
        "df.head()"
      ]
    },
    {
      "cell_type": "markdown",
      "metadata": {
        "id": "HrQXVEpUe-hK"
      },
      "source": [
        "# q1 : People spend average 60 $ for food\n",
        "\n",
        "\n",
        "$$H_0:\\mu = 60 $$\n",
        "\n",
        "$$ H_1:\\mu \\neq 60$$\n",
        "\n",
        "\n",
        "we use one sample t-test"
      ]
    },
    {
      "attachments": {},
      "cell_type": "markdown",
      "metadata": {
        "id": "BmEwXvINlgDy"
      },
      "source": [
        "![image.png](hypothesis_test_images/12.png)"
      ]
    },
    {
      "cell_type": "code",
      "execution_count": null,
      "metadata": {
        "colab": {
          "base_uri": "https://localhost:8080/"
        },
        "id": "37jGY91Khb_P",
        "outputId": "a7ef93ed-bb7d-4eea-f409-23b556fed812"
      },
      "outputs": [
        {
          "data": {
            "text/plain": [
              "0      False\n",
              "1      False\n",
              "2      False\n",
              "3      False\n",
              "4      False\n",
              "       ...  \n",
              "995    False\n",
              "996    False\n",
              "997    False\n",
              "998    False\n",
              "999    False\n",
              "Name: Spend, Length: 1000, dtype: bool"
            ]
          },
          "execution_count": 7,
          "metadata": {
            "tags": []
          },
          "output_type": "execute_result"
        }
      ],
      "source": [
        "df.Spend.isna()"
      ]
    },
    {
      "cell_type": "code",
      "execution_count": null,
      "metadata": {
        "colab": {
          "base_uri": "https://localhost:8080/"
        },
        "id": "ZttV9weqhVAW",
        "outputId": "d3ea893e-e252-47f8-c157-65eb69af0000"
      },
      "outputs": [
        {
          "data": {
            "text/plain": [
              "0"
            ]
          },
          "execution_count": 8,
          "metadata": {
            "tags": []
          },
          "output_type": "execute_result"
        }
      ],
      "source": [
        "df.Spend.isna().sum()"
      ]
    },
    {
      "cell_type": "code",
      "execution_count": null,
      "metadata": {
        "colab": {
          "base_uri": "https://localhost:8080/"
        },
        "id": "4dff_bLofX7g",
        "outputId": "0ba95528-470f-4d24-e807-fc6e1097bc30"
      },
      "outputs": [
        {
          "name": "stdout",
          "output_type": "stream",
          "text": [
            "t stat : -11.325330284771352 , p_value : 4.645385561029907e-28\n",
            "t stat : -11.325330284771352 , p_value : 4.645385561029907e-28\n",
            "reject null hypothesis\n"
          ]
        }
      ],
      "source": [
        "alpha = 0.05 \n",
        "tstat,p_value = stats.ttest_1samp(df['Spend'],popmean = 60.0)\n",
        "print('t stat : {} , p_value : {}'.format(tstat,p_value))\n",
        "if p_value<= alpha:\n",
        "    print(\"reject null hypothesis\")\n",
        "else:\n",
        "    print(\"accept null hypothesis\")"
      ]
    },
    {
      "cell_type": "markdown",
      "metadata": {
        "id": "LXwAZhoggfEk"
      },
      "source": [
        "# q2 : Gender not effects on spending money for food \n",
        "\n",
        "\n",
        "$$H_1:\\mu_{Male} \\neq \\mu_{Female} \\rightarrow \\mu_{Male} - \\mu_{Female}\\neq 0$$\n",
        "\n",
        "$$H_0:\\mu_{Male} = \\mu_{Female} \\rightarrow \\mu_{Male} - \\mu_{Female} = 0$$\n",
        "\n",
        "because this two group are independent we use 2 sample independent t-test"
      ]
    },
    {
      "cell_type": "code",
      "execution_count": null,
      "metadata": {
        "id": "5lAnbppcgb2x"
      },
      "outputs": [],
      "source": [
        "female = df[df['Gender']== 'Female']\n",
        "male = df[df['Gender'] == 'Male']"
      ]
    },
    {
      "cell_type": "code",
      "execution_count": null,
      "metadata": {
        "colab": {
          "base_uri": "https://localhost:8080/",
          "height": 206
        },
        "id": "lTVV8gBxA8v_",
        "outputId": "3caa74c0-ab9d-4d0a-fd1f-5deecea09d8c"
      },
      "outputs": [
        {
          "data": {
            "text/html": [
              "<div>\n",
              "<style scoped>\n",
              "    .dataframe tbody tr th:only-of-type {\n",
              "        vertical-align: middle;\n",
              "    }\n",
              "\n",
              "    .dataframe tbody tr th {\n",
              "        vertical-align: top;\n",
              "    }\n",
              "\n",
              "    .dataframe thead th {\n",
              "        text-align: right;\n",
              "    }\n",
              "</style>\n",
              "<table border=\"1\" class=\"dataframe\">\n",
              "  <thead>\n",
              "    <tr style=\"text-align: right;\">\n",
              "      <th></th>\n",
              "      <th>First Name</th>\n",
              "      <th>Gender</th>\n",
              "      <th>City</th>\n",
              "      <th>Frequency</th>\n",
              "      <th>Item</th>\n",
              "      <th>Spend</th>\n",
              "    </tr>\n",
              "  </thead>\n",
              "  <tbody>\n",
              "    <tr>\n",
              "      <th>0</th>\n",
              "      <td>Wanda</td>\n",
              "      <td>Female</td>\n",
              "      <td>Stamford</td>\n",
              "      <td>Weekly</td>\n",
              "      <td>Burger</td>\n",
              "      <td>15.66</td>\n",
              "    </tr>\n",
              "    <tr>\n",
              "      <th>3</th>\n",
              "      <td>Anna</td>\n",
              "      <td>Female</td>\n",
              "      <td>Philadelphia</td>\n",
              "      <td>Once</td>\n",
              "      <td>Ice Cream</td>\n",
              "      <td>11.01</td>\n",
              "    </tr>\n",
              "    <tr>\n",
              "      <th>4</th>\n",
              "      <td>Deborah</td>\n",
              "      <td>Female</td>\n",
              "      <td>Philadelphia</td>\n",
              "      <td>Daily</td>\n",
              "      <td>Chalupa</td>\n",
              "      <td>23.49</td>\n",
              "    </tr>\n",
              "    <tr>\n",
              "      <th>11</th>\n",
              "      <td>Rachel</td>\n",
              "      <td>Female</td>\n",
              "      <td>Philadelphia</td>\n",
              "      <td>Seldom</td>\n",
              "      <td>Sushi</td>\n",
              "      <td>71.68</td>\n",
              "    </tr>\n",
              "    <tr>\n",
              "      <th>12</th>\n",
              "      <td>Mary</td>\n",
              "      <td>Female</td>\n",
              "      <td>Philadelphia</td>\n",
              "      <td>Once</td>\n",
              "      <td>Burger</td>\n",
              "      <td>1.97</td>\n",
              "    </tr>\n",
              "  </tbody>\n",
              "</table>\n",
              "</div>"
            ],
            "text/plain": [
              "   First Name  Gender          City Frequency       Item  Spend\n",
              "0       Wanda  Female      Stamford    Weekly     Burger  15.66\n",
              "3        Anna  Female  Philadelphia      Once  Ice Cream  11.01\n",
              "4     Deborah  Female  Philadelphia     Daily    Chalupa  23.49\n",
              "11     Rachel  Female  Philadelphia    Seldom      Sushi  71.68\n",
              "12       Mary  Female  Philadelphia      Once     Burger   1.97"
            ]
          },
          "execution_count": 8,
          "metadata": {
            "tags": []
          },
          "output_type": "execute_result"
        }
      ],
      "source": [
        "female.head()"
      ]
    },
    {
      "cell_type": "code",
      "execution_count": null,
      "metadata": {
        "colab": {
          "base_uri": "https://localhost:8080/",
          "height": 206
        },
        "id": "Kw3vhdgmBAIa",
        "outputId": "86b600fd-5de8-4d80-ac4e-964bc2eb3ae7"
      },
      "outputs": [
        {
          "data": {
            "text/html": [
              "<div>\n",
              "<style scoped>\n",
              "    .dataframe tbody tr th:only-of-type {\n",
              "        vertical-align: middle;\n",
              "    }\n",
              "\n",
              "    .dataframe tbody tr th {\n",
              "        vertical-align: top;\n",
              "    }\n",
              "\n",
              "    .dataframe thead th {\n",
              "        text-align: right;\n",
              "    }\n",
              "</style>\n",
              "<table border=\"1\" class=\"dataframe\">\n",
              "  <thead>\n",
              "    <tr style=\"text-align: right;\">\n",
              "      <th></th>\n",
              "      <th>First Name</th>\n",
              "      <th>Gender</th>\n",
              "      <th>City</th>\n",
              "      <th>Frequency</th>\n",
              "      <th>Item</th>\n",
              "      <th>Spend</th>\n",
              "    </tr>\n",
              "  </thead>\n",
              "  <tbody>\n",
              "    <tr>\n",
              "      <th>1</th>\n",
              "      <td>Eric</td>\n",
              "      <td>Male</td>\n",
              "      <td>Stamford</td>\n",
              "      <td>Daily</td>\n",
              "      <td>Chalupa</td>\n",
              "      <td>10.56</td>\n",
              "    </tr>\n",
              "    <tr>\n",
              "      <th>2</th>\n",
              "      <td>Charles</td>\n",
              "      <td>Male</td>\n",
              "      <td>New York</td>\n",
              "      <td>Never</td>\n",
              "      <td>Sushi</td>\n",
              "      <td>42.14</td>\n",
              "    </tr>\n",
              "    <tr>\n",
              "      <th>5</th>\n",
              "      <td>Charles</td>\n",
              "      <td>Male</td>\n",
              "      <td>Stamford</td>\n",
              "      <td>Monthly</td>\n",
              "      <td>Sushi</td>\n",
              "      <td>93.03</td>\n",
              "    </tr>\n",
              "    <tr>\n",
              "      <th>6</th>\n",
              "      <td>Mark</td>\n",
              "      <td>Male</td>\n",
              "      <td>Philadelphia</td>\n",
              "      <td>Monthly</td>\n",
              "      <td>Ice Cream</td>\n",
              "      <td>30.01</td>\n",
              "    </tr>\n",
              "    <tr>\n",
              "      <th>7</th>\n",
              "      <td>Paul</td>\n",
              "      <td>Male</td>\n",
              "      <td>Philadelphia</td>\n",
              "      <td>Monthly</td>\n",
              "      <td>Chalupa</td>\n",
              "      <td>17.65</td>\n",
              "    </tr>\n",
              "  </tbody>\n",
              "</table>\n",
              "</div>"
            ],
            "text/plain": [
              "  First Name Gender          City Frequency       Item  Spend\n",
              "1       Eric   Male      Stamford     Daily    Chalupa  10.56\n",
              "2    Charles   Male      New York     Never      Sushi  42.14\n",
              "5    Charles   Male      Stamford   Monthly      Sushi  93.03\n",
              "6       Mark   Male  Philadelphia   Monthly  Ice Cream  30.01\n",
              "7       Paul   Male  Philadelphia   Monthly    Chalupa  17.65"
            ]
          },
          "execution_count": 9,
          "metadata": {
            "tags": []
          },
          "output_type": "execute_result"
        }
      ],
      "source": [
        "male.head()"
      ]
    },
    {
      "cell_type": "code",
      "execution_count": null,
      "metadata": {
        "colab": {
          "base_uri": "https://localhost:8080/"
        },
        "id": "StQ0Qjryhg5x",
        "outputId": "7ab9922a-eb16-4bfd-a126-e9fab5f8c542"
      },
      "outputs": [
        {
          "data": {
            "text/plain": [
              "0"
            ]
          },
          "execution_count": 11,
          "metadata": {
            "tags": []
          },
          "output_type": "execute_result"
        }
      ],
      "source": [
        "female.Spend.isna().sum()"
      ]
    },
    {
      "cell_type": "code",
      "execution_count": null,
      "metadata": {
        "colab": {
          "base_uri": "https://localhost:8080/"
        },
        "id": "SQNemwWwhnAc",
        "outputId": "43616346-8206-4654-cb81-928e52a4fc8c"
      },
      "outputs": [
        {
          "data": {
            "text/plain": [
              "0"
            ]
          },
          "execution_count": 12,
          "metadata": {
            "tags": []
          },
          "output_type": "execute_result"
        }
      ],
      "source": [
        "male.Spend.isna().sum()"
      ]
    },
    {
      "attachments": {},
      "cell_type": "markdown",
      "metadata": {
        "id": "9jP2k-rQlDw3"
      },
      "source": [
        "![image.png](hypothesis_test_images/13.png)"
      ]
    },
    {
      "cell_type": "code",
      "execution_count": null,
      "metadata": {
        "colab": {
          "base_uri": "https://localhost:8080/"
        },
        "id": "Bfin18Zihm9w",
        "outputId": "ef81a7b8-8060-4fb0-ae27-4bb757958df0"
      },
      "outputs": [
        {
          "name": "stdout",
          "output_type": "stream",
          "text": [
            "t stat : -0.7477543082151837 , p_value : 0.45478452030140304\n",
            "accept null hypothesis\n"
          ]
        }
      ],
      "source": [
        "alpha = 0.05 \n",
        "tstat,p_value = stats.ttest_ind(male.Spend,female.Spend,equal_var = True,alternative='two-sided')\n",
        "\n",
        "print('t stat : {} , p_value : {}'.format(tstat,p_value))\n",
        "if p_value<= alpha:\n",
        "    print(\"reject null hypothesis\")\n",
        "else:\n",
        "    print(\"accept null hypothesis\")"
      ]
    },
    {
      "attachments": {},
      "cell_type": "markdown",
      "metadata": {
        "id": "8tHKtwcUlUXw"
      },
      "source": [
        "![image.png](hypothesis_test_images/14.png)"
      ]
    },
    {
      "cell_type": "markdown",
      "metadata": {
        "id": "4e7qz864nyfi"
      },
      "source": [
        "# q3 : City effects on spending money on food\n"
      ]
    },
    {
      "cell_type": "markdown",
      "metadata": {
        "id": "dOTuZ7ujEsE-"
      },
      "source": [
        "\n",
        "$$H_0: \\mu_{Stamford} = \\mu_{New York} = \\mu_{Philadelphia}$$\n",
        "\n",
        "$$H_1: \\mu_{Stamford} \\neq \\mu_{New York} \\neq \\mu_{Philadelphia}$$"
      ]
    },
    {
      "attachments": {},
      "cell_type": "markdown",
      "metadata": {
        "id": "OTtoLQThoc0w"
      },
      "source": [
        "![image.png](hypothesis_test_images/15.png)"
      ]
    },
    {
      "attachments": {},
      "cell_type": "markdown",
      "metadata": {
        "id": "0wQtpUpPoPxU"
      },
      "source": [
        "![image.png](hypothesis_test_images/16.png)"
      ]
    },
    {
      "cell_type": "code",
      "execution_count": null,
      "metadata": {
        "colab": {
          "base_uri": "https://localhost:8080/"
        },
        "id": "FdVD1gf7omC6",
        "outputId": "9bccd7a0-fa50-40c1-912a-ece0ffc6341c"
      },
      "outputs": [
        {
          "data": {
            "text/plain": [
              "array(['Stamford', 'New York', 'Philadelphia'], dtype=object)"
            ]
          },
          "execution_count": 14,
          "metadata": {
            "tags": []
          },
          "output_type": "execute_result"
        }
      ],
      "source": [
        "df.City.unique()"
      ]
    },
    {
      "cell_type": "code",
      "execution_count": null,
      "metadata": {
        "id": "pMEQNyk9o3dL"
      },
      "outputs": [],
      "source": [
        "Stamford = df[df.City=='Stamford']\n",
        "NewYork = df[df.City=='New York']\n",
        "Philadelphia = df[df.City == 'Philadelphia']"
      ]
    },
    {
      "cell_type": "code",
      "execution_count": null,
      "metadata": {
        "colab": {
          "base_uri": "https://localhost:8080/"
        },
        "id": "2AdIHNRVnyAh",
        "outputId": "d1d43e11-8602-47be-8037-492085d45142"
      },
      "outputs": [
        {
          "name": "stdout",
          "output_type": "stream",
          "text": [
            "f stat : 0.07504725668463724 , p_value : 0.9277048853823887\n",
            "accept null hypothesis\n"
          ]
        }
      ],
      "source": [
        "alpha = 0.05 \n",
        "fstat,p_value = stats.f_oneway(Stamford.Spend ,NewYork.Spend ,Philadelphia.Spend )\n",
        "\n",
        "print('f stat : {} , p_value : {}'.format(fstat,p_value))\n",
        "if p_value<= alpha:\n",
        "    print(\"reject null hypothesis\")\n",
        "else:\n",
        "    print(\"accept null hypothesis\")"
      ]
    },
    {
      "cell_type": "markdown",
      "metadata": {
        "id": "qmKHf2HVEtq1"
      },
      "source": [
        "\n",
        "$$H_0: \\mu_{Stamford} = \\mu_{New York} = \\mu_{Philadelphia}$$\n",
        "\n",
        "$$H_1: \\mu_{Stamford} \\neq \\mu_{New York} \\neq \\mu_{Philadelphia}$$"
      ]
    },
    {
      "cell_type": "markdown",
      "metadata": {
        "id": "J2DbpWDWqP-B"
      },
      "source": [
        "# q4 : relation item as categorical feature  and city as categorical feature"
      ]
    },
    {
      "cell_type": "code",
      "execution_count": null,
      "metadata": {
        "colab": {
          "base_uri": "https://localhost:8080/"
        },
        "id": "hjSvKRfdq25H",
        "outputId": "2c87af2e-7e42-40b1-bb72-bda94cb1943c"
      },
      "outputs": [
        {
          "name": "stdout",
          "output_type": "stream",
          "text": [
            "contingency_table : \n",
            " Item          Burger  Burrito  Chalupa  Donut  Ice Cream  Sushi\n",
            "City                                                           \n",
            "New York          46       48       44     61         56     58\n",
            "Philadelphia      52       58       55     63         73     58\n",
            "Stamford          58       62       48     63         47     50\n"
          ]
        }
      ],
      "source": [
        "contingency_table=pd.crosstab(df[\"City\"],df[\"Item\"])\n",
        "print('contingency_table : \\n',contingency_table)"
      ]
    },
    {
      "cell_type": "code",
      "execution_count": null,
      "metadata": {
        "colab": {
          "base_uri": "https://localhost:8080/"
        },
        "id": "Osf0QyDsrzx_",
        "outputId": "d4129c7e-fba1-4192-dc39-16a4d4ce1f4f"
      },
      "outputs": [
        {
          "data": {
            "text/plain": [
              "array([[46, 48, 44, 61, 56, 58],\n",
              "       [52, 58, 55, 63, 73, 58],\n",
              "       [58, 62, 48, 63, 47, 50]])"
            ]
          },
          "execution_count": 18,
          "metadata": {
            "tags": []
          },
          "output_type": "execute_result"
        }
      ],
      "source": [
        "contingency_table.values"
      ]
    },
    {
      "cell_type": "code",
      "execution_count": null,
      "metadata": {
        "id": "e_gixgq_rHCw"
      },
      "outputs": [],
      "source": [
        "chi2_stat , p_value , dof , expected = stats.chi2_contingency(contingency_table.values)"
      ]
    },
    {
      "cell_type": "code",
      "execution_count": null,
      "metadata": {
        "colab": {
          "base_uri": "https://localhost:8080/"
        },
        "id": "qCfiUJQorrSb",
        "outputId": "5e4fa403-733b-43a7-a124-8af50e83673e"
      },
      "outputs": [
        {
          "name": "stdout",
          "output_type": "stream",
          "text": [
            "dof :  10\n"
          ]
        }
      ],
      "source": [
        "print('dof : ',dof)"
      ]
    },
    {
      "cell_type": "code",
      "execution_count": null,
      "metadata": {
        "colab": {
          "base_uri": "https://localhost:8080/"
        },
        "id": "RwXTTmDSruTp",
        "outputId": "40cc5c01-3264-44ef-d27d-9059801a061a"
      },
      "outputs": [
        {
          "name": "stdout",
          "output_type": "stream",
          "text": [
            "chi2 stat : 7.942425445331459 , p_value : 0.6344608189675968\n"
          ]
        }
      ],
      "source": [
        "print('chi2 stat : {} , p_value : {}'.format(chi2_stat,p_value))"
      ]
    },
    {
      "cell_type": "code",
      "execution_count": null,
      "metadata": {
        "colab": {
          "base_uri": "https://localhost:8080/"
        },
        "id": "pKe0AIyArlnA",
        "outputId": "b1185702-0a5e-4ba4-b6cc-242e513e7773"
      },
      "outputs": [
        {
          "name": "stdout",
          "output_type": "stream",
          "text": [
            "expected value : \n",
            " [[48.828 52.584 46.011 58.531 55.088 51.958]\n",
            " [56.004 60.312 52.773 67.133 63.184 59.594]\n",
            " [51.168 55.104 48.216 61.336 57.728 54.448]]\n"
          ]
        }
      ],
      "source": [
        "print('expected value : \\n',expected)"
      ]
    },
    {
      "cell_type": "code",
      "execution_count": null,
      "metadata": {
        "colab": {
          "base_uri": "https://localhost:8080/"
        },
        "id": "hnf2bwQcsDaX",
        "outputId": "229cad7a-6b47-40d4-845d-f0d193cfec26"
      },
      "outputs": [
        {
          "name": "stdout",
          "output_type": "stream",
          "text": [
            "Retain H0,There is no relationship between 2 categorical variables\n"
          ]
        }
      ],
      "source": [
        "alpha = 0.05\n",
        "\n",
        "if p_value<=alpha:\n",
        "    print(\"Reject H0,There is a relationship between 2 categorical variables\")\n",
        "else:\n",
        "    print(\"Retain H0,There is no relationship between 2 categorical variables\")"
      ]
    },
    {
      "cell_type": "markdown",
      "metadata": {
        "id": "A4VKy0Kal0n5"
      },
      "source": [
        "# q5 : new drug can reduce blood pressure level\n",
        "\n",
        "\n",
        "$$ H_0 : \\mu_{before} = \\mu_{after}$$\n",
        "\n",
        "$$ H_1 : \\mu_{before} \\neq \\mu_{after}$$\n",
        "\n",
        "we have 2 dependent sample , we use 2 sample dependent test"
      ]
    },
    {
      "cell_type": "code",
      "execution_count": null,
      "metadata": {
        "colab": {
          "base_uri": "https://localhost:8080/",
          "height": 206
        },
        "id": "sFC0VtsAdtgs",
        "outputId": "5eccd311-2d61-4d21-e00a-b2fad864c0a1"
      },
      "outputs": [
        {
          "data": {
            "text/html": [
              "<div>\n",
              "<style scoped>\n",
              "    .dataframe tbody tr th:only-of-type {\n",
              "        vertical-align: middle;\n",
              "    }\n",
              "\n",
              "    .dataframe tbody tr th {\n",
              "        vertical-align: top;\n",
              "    }\n",
              "\n",
              "    .dataframe thead th {\n",
              "        text-align: right;\n",
              "    }\n",
              "</style>\n",
              "<table border=\"1\" class=\"dataframe\">\n",
              "  <thead>\n",
              "    <tr style=\"text-align: right;\">\n",
              "      <th></th>\n",
              "      <th>patient</th>\n",
              "      <th>sex</th>\n",
              "      <th>agegrp</th>\n",
              "      <th>bp_before</th>\n",
              "      <th>bp_after</th>\n",
              "    </tr>\n",
              "  </thead>\n",
              "  <tbody>\n",
              "    <tr>\n",
              "      <th>0</th>\n",
              "      <td>1</td>\n",
              "      <td>Male</td>\n",
              "      <td>30-45</td>\n",
              "      <td>143</td>\n",
              "      <td>153</td>\n",
              "    </tr>\n",
              "    <tr>\n",
              "      <th>1</th>\n",
              "      <td>2</td>\n",
              "      <td>Male</td>\n",
              "      <td>30-45</td>\n",
              "      <td>163</td>\n",
              "      <td>170</td>\n",
              "    </tr>\n",
              "    <tr>\n",
              "      <th>2</th>\n",
              "      <td>3</td>\n",
              "      <td>Male</td>\n",
              "      <td>30-45</td>\n",
              "      <td>153</td>\n",
              "      <td>168</td>\n",
              "    </tr>\n",
              "    <tr>\n",
              "      <th>3</th>\n",
              "      <td>4</td>\n",
              "      <td>Male</td>\n",
              "      <td>30-45</td>\n",
              "      <td>153</td>\n",
              "      <td>142</td>\n",
              "    </tr>\n",
              "    <tr>\n",
              "      <th>4</th>\n",
              "      <td>5</td>\n",
              "      <td>Male</td>\n",
              "      <td>30-45</td>\n",
              "      <td>146</td>\n",
              "      <td>141</td>\n",
              "    </tr>\n",
              "  </tbody>\n",
              "</table>\n",
              "</div>"
            ],
            "text/plain": [
              "   patient   sex agegrp  bp_before  bp_after\n",
              "0        1  Male  30-45        143       153\n",
              "1        2  Male  30-45        163       170\n",
              "2        3  Male  30-45        153       168\n",
              "3        4  Male  30-45        153       142\n",
              "4        5  Male  30-45        146       141"
            ]
          },
          "execution_count": 24,
          "metadata": {
            "tags": []
          },
          "output_type": "execute_result"
        }
      ],
      "source": [
        "df = pd.read_csv(root + 'blood_pressure.csv')\n",
        "df.head()"
      ]
    },
    {
      "attachments": {},
      "cell_type": "markdown",
      "metadata": {
        "id": "tIRo5LuDmkhg"
      },
      "source": [
        "![image.png](hypothesis_test_images/17.png)"
      ]
    },
    {
      "cell_type": "code",
      "execution_count": null,
      "metadata": {
        "colab": {
          "base_uri": "https://localhost:8080/"
        },
        "id": "DRHUCg5Fd6pY",
        "outputId": "b11a78d8-dcd0-4ce7-b308-8a234b522e86"
      },
      "outputs": [
        {
          "name": "stdout",
          "output_type": "stream",
          "text": [
            "t stat : 3.3371870510833657 , p_value : 0.0011297914644840823\n",
            "reject null hypothesis\n"
          ]
        }
      ],
      "source": [
        "alpha = 0.05\n",
        "tstat,p_value = stats.ttest_rel(df['bp_before'],df['bp_after'],alternative='two-sided')\n",
        "\n",
        "print('t stat : {} , p_value : {}'.format(tstat,p_value))\n",
        "if p_value<= alpha:\n",
        "    print(\"reject null hypothesis\")\n",
        "else:\n",
        "    print(\"accept null hypothesis\")\n"
      ]
    },
    {
      "cell_type": "code",
      "execution_count": null,
      "metadata": {
        "id": "e_Qxy4bynBCy"
      },
      "outputs": [],
      "source": []
    }
  ],
  "metadata": {
    "colab": {
      "provenance": []
    },
    "kernelspec": {
      "display_name": "Python 3",
      "name": "python3"
    },
    "language_info": {
      "name": "python"
    }
  },
  "nbformat": 4,
  "nbformat_minor": 0
}
